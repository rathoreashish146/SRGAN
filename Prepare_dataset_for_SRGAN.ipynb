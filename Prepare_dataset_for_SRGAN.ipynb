{
 "cells": [
  {
   "cell_type": "code",
   "execution_count": 1,
   "id": "e11bda82",
   "metadata": {},
   "outputs": [],
   "source": [
    "import cv2\n",
    "import numpy as np\n",
    "import os\n",
    "import matplotlib.pyplot as plt"
   ]
  },
  {
   "cell_type": "code",
   "execution_count": 2,
   "id": "73563ade",
   "metadata": {},
   "outputs": [],
   "source": [
    "train_dir=\"images\""
   ]
  },
  {
   "cell_type": "code",
   "execution_count": 3,
   "id": "6ad31795",
   "metadata": {},
   "outputs": [],
   "source": [
    "from keras.applications import VGG19"
   ]
  },
  {
   "cell_type": "code",
   "execution_count": 4,
   "id": "882ea433",
   "metadata": {},
   "outputs": [],
   "source": [
    "for img in os.listdir(train_dir + \"/data\"):\n",
    "  img_array = cv2.imread(train_dir + \"/data/\" + img)\n",
    "\n",
    "  hr_img_array = cv2.resize(img_array, (128,128))\n",
    "  lr_img_array = cv2.resize(img_array, (32,32))\n",
    "  cv2.imwrite(train_dir + \"/hr_images/\" + img, hr_img_array)\n",
    "  cv2.imwrite(train_dir + \"/lr_images/\" + img, lr_img_array)"
   ]
  }
 ],
 "metadata": {
  "kernelspec": {
   "display_name": "Python 3 (ipykernel)",
   "language": "python",
   "name": "python3"
  },
  "language_info": {
   "codemirror_mode": {
    "name": "ipython",
    "version": 3
   },
   "file_extension": ".py",
   "mimetype": "text/x-python",
   "name": "python",
   "nbconvert_exporter": "python",
   "pygments_lexer": "ipython3",
   "version": "3.11.1"
  }
 },
 "nbformat": 4,
 "nbformat_minor": 5
}
